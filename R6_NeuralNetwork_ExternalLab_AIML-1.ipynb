{
 "cells": [
  {
   "cell_type": "markdown",
   "metadata": {
    "colab_type": "text",
    "id": "YYk8NG3yOIT9"
   },
   "source": [
    "### A MNIST-like fashion product database\n",
    "\n",
    "In this, we classify the images into respective classes given in the dataset. We use a Neural Net and a Deep Neural Net in Keras to solve this and check the accuracy scores."
   ]
  },
  {
   "cell_type": "markdown",
   "metadata": {
    "colab_type": "text",
    "id": "tFO6PuxzOIT_",
    "slideshow": {
     "slide_type": "slide"
    }
   },
   "source": [
    "### Load tensorflow"
   ]
  },
  {
   "cell_type": "code",
   "execution_count": 5,
   "metadata": {},
   "outputs": [
    {
     "name": "stdout",
     "output_type": "stream",
     "text": [
      "Collecting tensorflow==2.0\n",
      "  Using cached https://files.pythonhosted.org/packages/d3/af/296748d4c8d8987423231b93aecce5ab5952f6f2243cb6cedb88dd425397/tensorflow-2.0.0-cp36-cp36m-win_amd64.whl\n",
      "Requirement already satisfied: numpy<2.0,>=1.16.0 in c:\\users\\arany\\anaconda3\\lib\\site-packages (from tensorflow==2.0) (1.18.2)\n",
      "Requirement already satisfied: protobuf>=3.6.1 in c:\\users\\arany\\anaconda3\\lib\\site-packages (from tensorflow==2.0) (3.11.4)\n",
      "Requirement already satisfied: absl-py>=0.7.0 in c:\\users\\arany\\anaconda3\\lib\\site-packages (from tensorflow==2.0) (0.9.0)\n",
      "Requirement already satisfied: astor>=0.6.0 in c:\\users\\arany\\anaconda3\\lib\\site-packages (from tensorflow==2.0) (0.8.1)\n",
      "Requirement already satisfied: termcolor>=1.1.0 in c:\\users\\arany\\anaconda3\\lib\\site-packages (from tensorflow==2.0) (1.1.0)\n",
      "Requirement already satisfied: google-pasta>=0.1.6 in c:\\users\\arany\\anaconda3\\lib\\site-packages (from tensorflow==2.0) (0.2.0)\n",
      "Collecting gast==0.2.2 (from tensorflow==2.0)\n",
      "Requirement already satisfied: tensorflow-estimator<2.1.0,>=2.0.0 in c:\\users\\arany\\anaconda3\\lib\\site-packages (from tensorflow==2.0) (2.0.1)\n",
      "Collecting wrapt>=1.11.1 (from tensorflow==2.0)\n",
      "Requirement already satisfied: grpcio>=1.8.6 in c:\\users\\arany\\anaconda3\\lib\\site-packages (from tensorflow==2.0) (1.23.0)\n",
      "Requirement already satisfied: wheel>=0.26 in c:\\users\\arany\\anaconda3\\lib\\site-packages (from tensorflow==2.0) (0.31.1)\n",
      "Requirement already satisfied: opt-einsum>=2.3.2 in c:\\users\\arany\\anaconda3\\lib\\site-packages (from tensorflow==2.0) (3.2.0)\n",
      "Requirement already satisfied: six>=1.10.0 in c:\\users\\arany\\anaconda3\\lib\\site-packages (from tensorflow==2.0) (1.11.0)\n",
      "Requirement already satisfied: keras-applications>=1.0.8 in c:\\users\\arany\\anaconda3\\lib\\site-packages (from tensorflow==2.0) (1.0.8)\n",
      "Collecting tensorboard<2.1.0,>=2.0.0 (from tensorflow==2.0)\n",
      "  Using cached https://files.pythonhosted.org/packages/76/54/99b9d5d52d5cb732f099baaaf7740403e83fe6b0cedde940fabd2b13d75a/tensorboard-2.0.2-py3-none-any.whl\n",
      "Requirement already satisfied: keras-preprocessing>=1.0.5 in c:\\users\\arany\\anaconda3\\lib\\site-packages (from tensorflow==2.0) (1.1.0)\n",
      "Requirement already satisfied: setuptools in c:\\users\\arany\\anaconda3\\lib\\site-packages (from protobuf>=3.6.1->tensorflow==2.0) (39.1.0)\n",
      "Requirement already satisfied: h5py in c:\\users\\arany\\anaconda3\\lib\\site-packages (from keras-applications>=1.0.8->tensorflow==2.0) (2.7.1)\n",
      "Collecting google-auth-oauthlib<0.5,>=0.4.1 (from tensorboard<2.1.0,>=2.0.0->tensorflow==2.0)\n",
      "  Using cached https://files.pythonhosted.org/packages/7b/b8/88def36e74bee9fce511c9519571f4e485e890093ab7442284f4ffaef60b/google_auth_oauthlib-0.4.1-py2.py3-none-any.whl\n",
      "Requirement already satisfied: markdown>=2.6.8 in c:\\users\\arany\\anaconda3\\lib\\site-packages (from tensorboard<2.1.0,>=2.0.0->tensorflow==2.0) (3.2.1)\n",
      "Collecting google-auth<2,>=1.6.3 (from tensorboard<2.1.0,>=2.0.0->tensorflow==2.0)\n",
      "  Downloading https://files.pythonhosted.org/packages/dc/1a/c3c2f3aa4190d8154a146ad33aa5479c8d193cc6211abe5c535921d93389/google_auth-1.13.1-py2.py3-none-any.whl (87kB)\n",
      "Requirement already satisfied: werkzeug>=0.11.15 in c:\\users\\arany\\anaconda3\\lib\\site-packages (from tensorboard<2.1.0,>=2.0.0->tensorflow==2.0) (0.14.1)\n",
      "Collecting requests<3,>=2.21.0 (from tensorboard<2.1.0,>=2.0.0->tensorflow==2.0)\n",
      "  Using cached https://files.pythonhosted.org/packages/1a/70/1935c770cb3be6e3a8b78ced23d7e0f3b187f5cbfab4749523ed65d7c9b1/requests-2.23.0-py2.py3-none-any.whl\n",
      "Collecting requests-oauthlib>=0.7.0 (from google-auth-oauthlib<0.5,>=0.4.1->tensorboard<2.1.0,>=2.0.0->tensorflow==2.0)\n",
      "  Using cached https://files.pythonhosted.org/packages/a3/12/b92740d845ab62ea4edf04d2f4164d82532b5a0b03836d4d4e71c6f3d379/requests_oauthlib-1.3.0-py2.py3-none-any.whl\n",
      "Collecting rsa<4.1,>=3.1.4 (from google-auth<2,>=1.6.3->tensorboard<2.1.0,>=2.0.0->tensorflow==2.0)\n",
      "  Using cached https://files.pythonhosted.org/packages/02/e5/38518af393f7c214357079ce67a317307936896e961e35450b70fad2a9cf/rsa-4.0-py2.py3-none-any.whl\n",
      "Collecting pyasn1-modules>=0.2.1 (from google-auth<2,>=1.6.3->tensorboard<2.1.0,>=2.0.0->tensorflow==2.0)\n",
      "  Using cached https://files.pythonhosted.org/packages/95/de/214830a981892a3e286c3794f41ae67a4495df1108c3da8a9f62159b9a9d/pyasn1_modules-0.2.8-py2.py3-none-any.whl\n",
      "Collecting cachetools<5.0,>=2.0.0 (from google-auth<2,>=1.6.3->tensorboard<2.1.0,>=2.0.0->tensorflow==2.0)\n",
      "  Downloading https://files.pythonhosted.org/packages/b3/59/524ffb454d05001e2be74c14745b485681c6ed5f2e625f71d135704c0909/cachetools-4.1.0-py3-none-any.whl\n",
      "Requirement already satisfied: chardet<4,>=3.0.2 in c:\\users\\arany\\anaconda3\\lib\\site-packages (from requests<3,>=2.21.0->tensorboard<2.1.0,>=2.0.0->tensorflow==2.0) (3.0.4)\n",
      "Requirement already satisfied: idna<3,>=2.5 in c:\\users\\arany\\anaconda3\\lib\\site-packages (from requests<3,>=2.21.0->tensorboard<2.1.0,>=2.0.0->tensorflow==2.0) (2.6)\n",
      "Requirement already satisfied: urllib3!=1.25.0,!=1.25.1,<1.26,>=1.21.1 in c:\\users\\arany\\anaconda3\\lib\\site-packages (from requests<3,>=2.21.0->tensorboard<2.1.0,>=2.0.0->tensorflow==2.0) (1.22)\n",
      "Requirement already satisfied: certifi>=2017.4.17 in c:\\users\\arany\\anaconda3\\lib\\site-packages (from requests<3,>=2.21.0->tensorboard<2.1.0,>=2.0.0->tensorflow==2.0) (2020.4.5.1)\n",
      "Collecting oauthlib>=3.0.0 (from requests-oauthlib>=0.7.0->google-auth-oauthlib<0.5,>=0.4.1->tensorboard<2.1.0,>=2.0.0->tensorflow==2.0)\n",
      "  Using cached https://files.pythonhosted.org/packages/05/57/ce2e7a8fa7c0afb54a0581b14a65b56e62b5759dbc98e80627142b8a3704/oauthlib-3.1.0-py2.py3-none-any.whl\n",
      "Collecting pyasn1>=0.1.3 (from rsa<4.1,>=3.1.4->google-auth<2,>=1.6.3->tensorboard<2.1.0,>=2.0.0->tensorflow==2.0)\n",
      "  Using cached https://files.pythonhosted.org/packages/62/1e/a94a8d635fa3ce4cfc7f506003548d0a2447ae76fd5ca53932970fe3053f/pyasn1-0.4.8-py2.py3-none-any.whl\n",
      "Installing collected packages: gast, wrapt, requests, oauthlib, requests-oauthlib, pyasn1, rsa, pyasn1-modules, cachetools, google-auth, google-auth-oauthlib, tensorboard, tensorflow\n",
      "  Found existing installation: gast 0.3.3\n",
      "    Uninstalling gast-0.3.3:\n",
      "      Successfully uninstalled gast-0.3.3\n",
      "  Found existing installation: wrapt 1.10.11\n"
     ]
    },
    {
     "name": "stderr",
     "output_type": "stream",
     "text": [
      "distributed 1.21.8 requires msgpack, which is not installed.\n",
      "tensorboard 2.0.2 has requirement grpcio>=1.24.3, but you'll have grpcio 1.23.0 which is incompatible.\n",
      "tensorboard 2.0.2 has requirement setuptools>=41.0.0, but you'll have setuptools 39.1.0 which is incompatible.\n",
      "google-auth 1.13.1 has requirement setuptools>=40.3.0, but you'll have setuptools 39.1.0 which is incompatible.\n",
      "Cannot uninstall 'wrapt'. It is a distutils installed project and thus we cannot accurately determine which files belong to it which would lead to only a partial uninstall.\n",
      "You are using pip version 10.0.1, however version 20.0.2 is available.\n",
      "You should consider upgrading via the 'python -m pip install --upgrade pip' command.\n"
     ]
    }
   ],
   "source": [
    "!pip install tensorflow==2.0"
   ]
  },
  {
   "cell_type": "code",
   "execution_count": 1,
   "metadata": {},
   "outputs": [
    {
     "name": "stderr",
     "output_type": "stream",
     "text": [
      "C:\\Users\\arany\\Anaconda3\\lib\\site-packages\\tensorflow\\python\\framework\\dtypes.py:526: FutureWarning: Passing (type, 1) or '1type' as a synonym of type is deprecated; in a future version of numpy, it will be understood as (type, (1,)) / '(1,)type'.\n",
      "  _np_qint8 = np.dtype([(\"qint8\", np.int8, 1)])\n",
      "C:\\Users\\arany\\Anaconda3\\lib\\site-packages\\tensorflow\\python\\framework\\dtypes.py:527: FutureWarning: Passing (type, 1) or '1type' as a synonym of type is deprecated; in a future version of numpy, it will be understood as (type, (1,)) / '(1,)type'.\n",
      "  _np_quint8 = np.dtype([(\"quint8\", np.uint8, 1)])\n",
      "C:\\Users\\arany\\Anaconda3\\lib\\site-packages\\tensorflow\\python\\framework\\dtypes.py:528: FutureWarning: Passing (type, 1) or '1type' as a synonym of type is deprecated; in a future version of numpy, it will be understood as (type, (1,)) / '(1,)type'.\n",
      "  _np_qint16 = np.dtype([(\"qint16\", np.int16, 1)])\n",
      "C:\\Users\\arany\\Anaconda3\\lib\\site-packages\\tensorflow\\python\\framework\\dtypes.py:529: FutureWarning: Passing (type, 1) or '1type' as a synonym of type is deprecated; in a future version of numpy, it will be understood as (type, (1,)) / '(1,)type'.\n",
      "  _np_quint16 = np.dtype([(\"quint16\", np.uint16, 1)])\n",
      "C:\\Users\\arany\\Anaconda3\\lib\\site-packages\\tensorflow\\python\\framework\\dtypes.py:530: FutureWarning: Passing (type, 1) or '1type' as a synonym of type is deprecated; in a future version of numpy, it will be understood as (type, (1,)) / '(1,)type'.\n",
      "  _np_qint32 = np.dtype([(\"qint32\", np.int32, 1)])\n",
      "C:\\Users\\arany\\Anaconda3\\lib\\site-packages\\tensorflow\\python\\framework\\dtypes.py:535: FutureWarning: Passing (type, 1) or '1type' as a synonym of type is deprecated; in a future version of numpy, it will be understood as (type, (1,)) / '(1,)type'.\n",
      "  np_resource = np.dtype([(\"resource\", np.ubyte, 1)])\n",
      "C:\\Users\\arany\\Anaconda3\\lib\\site-packages\\h5py\\__init__.py:36: FutureWarning: Conversion of the second argument of issubdtype from `float` to `np.floating` is deprecated. In future, it will be treated as `np.float64 == np.dtype(float).type`.\n",
      "  from ._conv import register_converters as _register_converters\n"
     ]
    }
   ],
   "source": [
    "import tensorflow as tf"
   ]
  },
  {
   "cell_type": "code",
   "execution_count": 2,
   "metadata": {
    "colab": {},
    "colab_type": "code",
    "id": "efNjNImfOIUC"
   },
   "outputs": [],
   "source": [
    "import tensorflow as tf\n",
    "tf.set_random_seed(42)"
   ]
  },
  {
   "cell_type": "code",
   "execution_count": 3,
   "metadata": {
    "colab": {},
    "colab_type": "code",
    "id": "l9C4aAIGOIUH",
    "outputId": "5ef9aff6-a7bd-4b26-cba6-8750955f6ca3"
   },
   "outputs": [
    {
     "data": {
      "text/plain": [
       "'1.13.1'"
      ]
     },
     "execution_count": 3,
     "metadata": {},
     "output_type": "execute_result"
    }
   ],
   "source": [
    "tf.__version__"
   ]
  },
  {
   "cell_type": "code",
   "execution_count": 69,
   "metadata": {},
   "outputs": [],
   "source": [
    "import numpy as np\n",
    "import pandas as pd\n",
    "from tensorflow.keras import Sequential\n",
    "from tensorflow.keras.layers import Dense\n",
    "from tensorflow.keras import optimizers\n",
    "from sklearn import metrics\n",
    "import matplotlib.pyplot as plt\n",
    "%matplotlib inline"
   ]
  },
  {
   "cell_type": "markdown",
   "metadata": {
    "colab_type": "text",
    "id": "HcoZBStrOIUQ",
    "slideshow": {
     "slide_type": "slide"
    }
   },
   "source": [
    "### Collect Data"
   ]
  },
  {
   "cell_type": "code",
   "execution_count": 5,
   "metadata": {
    "colab": {},
    "colab_type": "code",
    "id": "XA1WsFSeOIUS"
   },
   "outputs": [
    {
     "name": "stderr",
     "output_type": "stream",
     "text": [
      "Using TensorFlow backend.\n"
     ]
    }
   ],
   "source": [
    "import keras"
   ]
  },
  {
   "cell_type": "code",
   "execution_count": 6,
   "metadata": {
    "colab": {},
    "colab_type": "code",
    "id": "qnbx7TyQOIUY"
   },
   "outputs": [],
   "source": [
    "(trainX, trainY), (testX, testY) = keras.datasets.fashion_mnist.load_data()"
   ]
  },
  {
   "cell_type": "code",
   "execution_count": 7,
   "metadata": {
    "colab": {},
    "colab_type": "code",
    "id": "UbiHj5YPOIUc",
    "outputId": "87e1b9cd-07f0-45cb-e706-0d51ad742d72",
    "slideshow": {
     "slide_type": "fragment"
    }
   },
   "outputs": [
    {
     "name": "stdout",
     "output_type": "stream",
     "text": [
      "[9 2 1 1 6]\n"
     ]
    }
   ],
   "source": [
    "print(testY[0:5])"
   ]
  },
  {
   "cell_type": "markdown",
   "metadata": {
    "colab_type": "text",
    "id": "lDAYzkwyOIUj",
    "slideshow": {
     "slide_type": "slide"
    }
   },
   "source": [
    "### Convert both training and testing labels into one-hot vectors.\n",
    "\n",
    "**Hint:** check **tf.keras.utils.to_categorical()**"
   ]
  },
  {
   "cell_type": "code",
   "execution_count": 8,
   "metadata": {
    "colab": {},
    "colab_type": "code",
    "id": "vBlfYlANOIUk"
   },
   "outputs": [],
   "source": [
    "trainY_ohe=tf.keras.utils.to_categorical(trainY,10)"
   ]
  },
  {
   "cell_type": "code",
   "execution_count": 9,
   "metadata": {},
   "outputs": [],
   "source": [
    "testY_ohe=tf.keras.utils.to_categorical(testY,10)"
   ]
  },
  {
   "cell_type": "code",
   "execution_count": 10,
   "metadata": {
    "colab": {},
    "colab_type": "code",
    "id": "RHV3b9mzOIUq",
    "outputId": "27bdfe58-91ee-4677-fe49-e742ad306c70",
    "scrolled": true,
    "slideshow": {
     "slide_type": "fragment"
    }
   },
   "outputs": [
    {
     "name": "stdout",
     "output_type": "stream",
     "text": [
      "(60000, 10)\n",
      "First 5 examples now are:  [[0. 0. 0. 0. 0. 0. 0. 0. 0. 1.]\n",
      " [1. 0. 0. 0. 0. 0. 0. 0. 0. 0.]\n",
      " [1. 0. 0. 0. 0. 0. 0. 0. 0. 0.]\n",
      " [0. 0. 0. 1. 0. 0. 0. 0. 0. 0.]\n",
      " [1. 0. 0. 0. 0. 0. 0. 0. 0. 0.]]\n"
     ]
    }
   ],
   "source": [
    "print(trainY_ohe.shape)\n",
    "print('First 5 examples now are: ', trainY_ohe[0:5])"
   ]
  },
  {
   "cell_type": "code",
   "execution_count": 11,
   "metadata": {},
   "outputs": [
    {
     "name": "stdout",
     "output_type": "stream",
     "text": [
      "(60000, 28, 28)\n"
     ]
    }
   ],
   "source": [
    "print(trainX.shape)"
   ]
  },
  {
   "cell_type": "markdown",
   "metadata": {
    "colab_type": "text",
    "id": "FwhQ8e7VOIUw"
   },
   "source": [
    "### Visualize the data\n",
    "\n",
    "Plot first 10 images in the triaining set and their labels."
   ]
  },
  {
   "cell_type": "code",
   "execution_count": 15,
   "metadata": {
    "colab": {},
    "colab_type": "code",
    "id": "AvDML2OoOIUx",
    "outputId": "9dafc94e-61a8-4089-be03-d143163d68aa"
   },
   "outputs": [
    {
     "name": "stdout",
     "output_type": "stream",
     "text": [
      "[9 0 0 3 0 2 7 2 5 5]\n"
     ]
    },
    {
     "data": {
      "image/png": "[encoded data removed]",
      "text/plain": [
       "<Figure size 1440x1440 with 10 Axes>"
      ]
     },
     "metadata": {},
     "output_type": "display_data"
    }
   ],
   "source": [
    "fig, axes = plt.subplots(10, figsize=(20,20))\n",
    "\n",
    "for i,ax in enumerate(axes.flat):\n",
    "    ax.imshow(trainX[i])\n",
    "    \n",
    "print(trainY[0:10,])"
   ]
  },
  {
   "cell_type": "code",
   "execution_count": 13,
   "metadata": {},
   "outputs": [
    {
     "name": "stdout",
     "output_type": "stream",
     "text": [
      "9\n"
     ]
    },
    {
     "data": {
      "image/png": "[encoded data removed]",
      "text/plain": [
       "<Figure size 432x288 with 1 Axes>"
      ]
     },
     "metadata": {},
     "output_type": "display_data"
    }
   ],
   "source": [
    "plt.imshow(trainX[0,:,:],cmap=None)\n",
    "print(trainY[0])"
   ]
  },
  {
   "cell_type": "code",
   "execution_count": 16,
   "metadata": {},
   "outputs": [
    {
     "data": {
      "text/plain": [
       "9    6000\n",
       "8    6000\n",
       "7    6000\n",
       "6    6000\n",
       "5    6000\n",
       "4    6000\n",
       "3    6000\n",
       "2    6000\n",
       "1    6000\n",
       "0    6000\n",
       "Name: 0, dtype: int64"
      ]
     },
     "execution_count": 16,
     "metadata": {},
     "output_type": "execute_result"
    }
   ],
   "source": [
    "trn_Y=pd.DataFrame(trainY)\n",
    "trn_Y[0].value_counts()"
   ]
  },
  {
   "cell_type": "code",
   "execution_count": 30,
   "metadata": {},
   "outputs": [],
   "source": [
    "#Represent Training & Testing samples suitable for #tensorflow backend\n",
    "X_train=trainX.reshape(trainX.shape[0],784).astype('float32')\n",
    "X_test=testX.reshape(testX.shape[0],784).astype('float32')"
   ]
  },
  {
   "cell_type": "code",
   "execution_count": 29,
   "metadata": {},
   "outputs": [],
   "source": [
    "from sklearn.preprocessing import MinMaxScaler\n",
    "mm_scaler = MinMaxScaler()"
   ]
  },
  {
   "cell_type": "code",
   "execution_count": 31,
   "metadata": {},
   "outputs": [],
   "source": [
    "X_train_mm = mm_scaler.fit_transform(X_train)\n",
    "X_test_mm = mm_scaler.fit_transform(X_test)"
   ]
  },
  {
   "cell_type": "code",
   "execution_count": 32,
   "metadata": {},
   "outputs": [],
   "source": [
    "X_train_mm_df = pd.DataFrame(X_train_mm)"
   ]
  },
  {
   "cell_type": "code",
   "execution_count": 34,
   "metadata": {},
   "outputs": [
    {
     "data": {
      "text/plain": [
       "(60000, 784)"
      ]
     },
     "execution_count": 34,
     "metadata": {},
     "output_type": "execute_result"
    }
   ],
   "source": [
    "X_train_mm_df.shape"
   ]
  },
  {
   "cell_type": "markdown",
   "metadata": {
    "colab_type": "text",
    "id": "l4TbJGeSOIU4",
    "slideshow": {
     "slide_type": "slide"
    }
   },
   "source": [
    "### Build a neural Network with a cross entropy loss function and sgd optimizer in Keras. The output layer with 10 neurons as we have 10 classes."
   ]
  },
  {
   "cell_type": "code",
   "execution_count": 37,
   "metadata": {
    "colab": {},
    "colab_type": "code",
    "id": "Ac06XZZTOIU6"
   },
   "outputs": [],
   "source": [
    "# Initialize the constructor\n",
    "\n",
    "model = Sequential()"
   ]
  },
  {
   "cell_type": "code",
   "execution_count": 40,
   "metadata": {},
   "outputs": [],
   "source": [
    "# Define model architecture\n",
    "\n",
    "model.add(Dense(784,activation='relu'))\n",
    "model.add(Dense(100, activation ='relu'))\n",
    "model.add(Dense(10,activation='softmax'))"
   ]
  },
  {
   "cell_type": "code",
   "execution_count": 41,
   "metadata": {},
   "outputs": [
    {
     "name": "stdout",
     "output_type": "stream",
     "text": [
      "WARNING:tensorflow:From C:\\Users\\arany\\Anaconda3\\lib\\site-packages\\tensorflow\\python\\ops\\resource_variable_ops.py:435: colocate_with (from tensorflow.python.framework.ops) is deprecated and will be removed in a future version.\n",
      "Instructions for updating:\n",
      "Colocations handled automatically by placer.\n"
     ]
    }
   ],
   "source": [
    "model.compile(loss='categorical_crossentropy',optimizer='sgd',metrics=['accuracy'])"
   ]
  },
  {
   "cell_type": "markdown",
   "metadata": {
    "colab_type": "text",
    "id": "3hQpLv3aOIU_",
    "slideshow": {
     "slide_type": "slide"
    }
   },
   "source": [
    "### Execute the model using model.fit()"
   ]
  },
  {
   "cell_type": "code",
   "execution_count": 46,
   "metadata": {
    "colab": {},
    "colab_type": "code",
    "id": "O59C_-IgOIVB"
   },
   "outputs": [
    {
     "name": "stdout",
     "output_type": "stream",
     "text": [
      "Epoch 1/15\n",
      "60000/60000 [==============================] - 4s 74us/sample - loss: 0.2193 - acc: 0.9232\n",
      "Epoch 2/15\n",
      "60000/60000 [==============================] - 4s 71us/sample - loss: 0.2186 - acc: 0.92271s - \n",
      "Epoch 3/15\n",
      "60000/60000 [==============================] - 5s 76us/sample - loss: 0.2176 - acc: 0.9242\n",
      "Epoch 4/15\n",
      "60000/60000 [==============================] - 4s 72us/sample - loss: 0.2165 - acc: 0.9243\n",
      "Epoch 5/15\n",
      "60000/60000 [==============================] - 5s 79us/sample - loss: 0.2157 - acc: 0.9246\n",
      "Epoch 6/15\n",
      "60000/60000 [==============================] - 4s 75us/sample - loss: 0.2147 - acc: 0.9250\n",
      "Epoch 7/15\n",
      "60000/60000 [==============================] - 5s 83us/sample - loss: 0.2136 - acc: 0.9257\n",
      "Epoch 8/15\n",
      "60000/60000 [==============================] - 5s 81us/sample - loss: 0.2132 - acc: 0.9252\n",
      "Epoch 9/15\n",
      "60000/60000 [==============================] - 5s 82us/sample - loss: 0.2123 - acc: 0.9260\n",
      "Epoch 10/15\n",
      "60000/60000 [==============================] - 5s 80us/sample - loss: 0.2113 - acc: 0.9267\n",
      "Epoch 11/15\n",
      "60000/60000 [==============================] - 5s 80us/sample - loss: 0.2106 - acc: 0.9265\n",
      "Epoch 12/15\n",
      "60000/60000 [==============================] - 5s 80us/sample - loss: 0.2098 - acc: 0.92680s - loss: 0.2102 - acc: 0.9\n",
      "Epoch 13/15\n",
      "60000/60000 [==============================] - 5s 88us/sample - loss: 0.2090 - acc: 0.9271\n",
      "Epoch 14/15\n",
      "60000/60000 [==============================] - 5s 82us/sample - loss: 0.2080 - acc: 0.9278\n",
      "Epoch 15/15\n",
      "60000/60000 [==============================] - 6s 94us/sample - loss: 0.2074 - acc: 0.9277\n"
     ]
    },
    {
     "data": {
      "text/plain": [
       "<tensorflow.python.keras.callbacks.History at 0x22431de7d30>"
      ]
     },
     "execution_count": 46,
     "metadata": {},
     "output_type": "execute_result"
    }
   ],
   "source": [
    "model.fit(X_train_mm, trainY_ohe, epochs=15, verbose=1,batch_size=256 )"
   ]
  },
  {
   "cell_type": "code",
   "execution_count": 64,
   "metadata": {},
   "outputs": [
    {
     "name": "stdout",
     "output_type": "stream",
     "text": [
      "Accuracy: 0.885\n",
      "Loss: 0.319\n"
     ]
    }
   ],
   "source": [
    "loss, acc = model.evaluate(X_test_mm, testY_ohe, verbose=0)\n",
    "print('Accuracy: %.3f'  % acc)\n",
    "print('Loss: %.3f' % loss)"
   ]
  },
  {
   "cell_type": "code",
   "execution_count": 132,
   "metadata": {},
   "outputs": [],
   "source": [
    "y_predict = model.predict(X_test_mm)"
   ]
  },
  {
   "cell_type": "code",
   "execution_count": 133,
   "metadata": {},
   "outputs": [
    {
     "data": {
      "text/plain": [
       "array([8.6368300e-06, 1.5490625e-06, 2.4762508e-05, 1.2301884e-05,\n",
       "       8.5186912e-06, 3.9454470e-03, 6.7675242e-06, 1.3643060e-02,\n",
       "       6.4042112e-04, 9.8170853e-01], dtype=float32)"
      ]
     },
     "execution_count": 133,
     "metadata": {},
     "output_type": "execute_result"
    }
   ],
   "source": [
    "y_predict[0]"
   ]
  },
  {
   "cell_type": "code",
   "execution_count": 134,
   "metadata": {},
   "outputs": [
    {
     "data": {
      "text/plain": [
       "9"
      ]
     },
     "execution_count": 134,
     "metadata": {},
     "output_type": "execute_result"
    }
   ],
   "source": [
    "np.argmax(y_predict[0])"
   ]
  },
  {
   "cell_type": "code",
   "execution_count": 135,
   "metadata": {},
   "outputs": [],
   "source": [
    "y_pred = []\n",
    "for val in y_predict:\n",
    "    y_pred.append(np.argmax(val))\n"
   ]
  },
  {
   "cell_type": "code",
   "execution_count": 136,
   "metadata": {},
   "outputs": [
    {
     "name": "stdout",
     "output_type": "stream",
     "text": [
      "[[888   0  15  21   3   1  64   0   8   0]\n",
      " [  3 970   0  22   2   0   3   0   0   0]\n",
      " [ 24   0 833  15  77   0  47   1   3   0]\n",
      " [ 27   5  13 911  23   0  17   0   4   0]\n",
      " [  0   1 111  40 798   0  47   0   3   0]\n",
      " [  0   0   0   1   0 971   0  16   2  10]\n",
      " [178   1  99  26  68   0 616   0  12   0]\n",
      " [  0   0   0   0   0  28   0 941   0  31]\n",
      " [  8   0   6   8   4   3   3   4 964   0]\n",
      " [  0   0   0   0   0  14   1  32   0 953]]\n"
     ]
    }
   ],
   "source": [
    "cm = metrics.confusion_matrix(testY,y_pred)\n",
    "print(cm)"
   ]
  },
  {
   "cell_type": "code",
   "execution_count": null,
   "metadata": {},
   "outputs": [],
   "source": []
  },
  {
   "cell_type": "markdown",
   "metadata": {
    "colab_type": "text",
    "id": "JdzDtGwDOIVF",
    "slideshow": {
     "slide_type": "slide"
    }
   },
   "source": [
    "### In the above Neural Network model add Batch Normalization layer after the input layer and repeat the steps."
   ]
  },
  {
   "cell_type": "code",
   "execution_count": 47,
   "metadata": {
    "colab": {},
    "colab_type": "code",
    "id": "kndfpdidOIVI"
   },
   "outputs": [],
   "source": [
    "from tensorflow.keras.layers import BatchNormalization"
   ]
  },
  {
   "cell_type": "code",
   "execution_count": 148,
   "metadata": {},
   "outputs": [],
   "source": [
    "model2 = Sequential()\n",
    "model2.add(BatchNormalization())\n",
    "model2.add(Dense(784,activation='relu'))\n",
    "model2.add(Dense(100, activation ='relu'))\n",
    "model2.add(Dense(10,activation='softmax'))\n"
   ]
  },
  {
   "cell_type": "code",
   "execution_count": 149,
   "metadata": {},
   "outputs": [],
   "source": [
    "model2.compile(loss='categorical_crossentropy',optimizer='sgd',metrics=['accuracy'])"
   ]
  },
  {
   "cell_type": "markdown",
   "metadata": {
    "colab_type": "text",
    "id": "mwk3T5LJOIVN",
    "slideshow": {
     "slide_type": "slide"
    }
   },
   "source": [
    "### Execute the model"
   ]
  },
  {
   "cell_type": "code",
   "execution_count": 150,
   "metadata": {
    "colab": {},
    "colab_type": "code",
    "id": "JNLR8tcBOIVP"
   },
   "outputs": [
    {
     "name": "stdout",
     "output_type": "stream",
     "text": [
      "Epoch 1/15\n",
      "60000/60000 [==============================] - 6s 102us/sample - loss: 0.8183 - acc: 0.7280\n",
      "Epoch 2/15\n",
      "60000/60000 [==============================] - 6s 99us/sample - loss: 0.5164 - acc: 0.81855s - loss: 0.5669 \n",
      "Epoch 3/15\n",
      "60000/60000 [==============================] - 7s 112us/sample - loss: 0.4570 - acc: 0.8385\n",
      "Epoch 4/15\n",
      "60000/60000 [==============================] - 7s 110us/sample - loss: 0.4232 - acc: 0.8506\n",
      "Epoch 5/15\n",
      "60000/60000 [==============================] - 7s 108us/sample - loss: 0.4018 - acc: 0.8582\n",
      "Epoch 6/15\n",
      "60000/60000 [==============================] - 6s 107us/sample - loss: 0.3848 - acc: 0.8636\n",
      "Epoch 7/15\n",
      "60000/60000 [==============================] - 7s 109us/sample - loss: 0.3717 - acc: 0.8689\n",
      "Epoch 8/15\n",
      "60000/60000 [==============================] - 7s 125us/sample - loss: 0.3603 - acc: 0.8725\n",
      "Epoch 9/15\n",
      "60000/60000 [==============================] - 7s 123us/sample - loss: 0.3504 - acc: 0.8766s -  - ETA: 3s - loss: \n",
      "Epoch 10/15\n",
      "60000/60000 [==============================] - 7s 115us/sample - loss: 0.3414 - acc: 0.8799ETA: 1s - loss: \n",
      "Epoch 11/15\n",
      "60000/60000 [==============================] - 7s 123us/sample - loss: 0.3342 - acc: 0.8823\n",
      "Epoch 12/15\n",
      "60000/60000 [==============================] - 8s 126us/sample - loss: 0.3273 - acc: 0.8844\n",
      "Epoch 13/15\n",
      "60000/60000 [==============================] - 8s 127us/sample - loss: 0.3210 - acc: 0.8868\n",
      "Epoch 14/15\n",
      "60000/60000 [==============================] - 7s 124us/sample - loss: 0.3150 - acc: 0.8887\n",
      "Epoch 15/15\n",
      "60000/60000 [==============================] - 7s 121us/sample - loss: 0.3090 - acc: 0.8899\n"
     ]
    },
    {
     "data": {
      "text/plain": [
       "<tensorflow.python.keras.callbacks.History at 0x2243b5bc5f8>"
      ]
     },
     "execution_count": 150,
     "metadata": {},
     "output_type": "execute_result"
    }
   ],
   "source": [
    "model2.fit(X_train, trainY_ohe, epochs=15, verbose=1,batch_size=256 )"
   ]
  },
  {
   "cell_type": "markdown",
   "metadata": {
    "colab_type": "text",
    "id": "Py-KwkmjOIVU"
   },
   "source": [
    "### Customize the learning rate to 0.001 in sgd optimizer and run the model"
   ]
  },
  {
   "cell_type": "code",
   "execution_count": 151,
   "metadata": {
    "colab": {},
    "colab_type": "code",
    "id": "yLXUE9jWOIVV"
   },
   "outputs": [],
   "source": [
    "sgd = optimizers.SGD(lr=0.001)"
   ]
  },
  {
   "cell_type": "code",
   "execution_count": 152,
   "metadata": {
    "colab": {},
    "colab_type": "code",
    "id": "pJUqA5T4OIVc"
   },
   "outputs": [],
   "source": [
    "model2.compile(loss='categorical_crossentropy',optimizer='sgd',metrics=['accuracy'])"
   ]
  },
  {
   "cell_type": "code",
   "execution_count": 153,
   "metadata": {},
   "outputs": [
    {
     "name": "stdout",
     "output_type": "stream",
     "text": [
      "Epoch 1/15\n",
      "60000/60000 [==============================] - 7s 116us/sample - loss: 0.3035 - acc: 0.8922\n",
      "Epoch 2/15\n",
      "60000/60000 [==============================] - 7s 118us/sample - loss: 0.2984 - acc: 0.8933\n",
      "Epoch 3/15\n",
      "60000/60000 [==============================] - 7s 121us/sample - loss: 0.2947 - acc: 0.8955\n",
      "Epoch 4/15\n",
      "60000/60000 [==============================] - 7s 119us/sample - loss: 0.2890 - acc: 0.8977s - loss: 0.288\n",
      "Epoch 5/15\n",
      "60000/60000 [==============================] - 7s 119us/sample - loss: 0.2852 - acc: 0.8984s - loss: 0.2\n",
      "Epoch 6/15\n",
      "60000/60000 [==============================] - 7s 122us/sample - loss: 0.2808 - acc: 0.9000\n",
      "Epoch 7/15\n",
      "60000/60000 [==============================] - 7s 118us/sample - loss: 0.2772 - acc: 0.9017\n",
      "Epoch 8/15\n",
      "60000/60000 [==============================] - 7s 121us/sample - loss: 0.2726 - acc: 0.9024s - loss: 0.2746 - acc\n",
      "Epoch 9/15\n",
      "60000/60000 [==============================] - 7s 119us/sample - loss: 0.2697 - acc: 0.9041\n",
      "Epoch 10/15\n",
      "60000/60000 [==============================] - 8s 127us/sample - loss: 0.2654 - acc: 0.9059\n",
      "Epoch 11/15\n",
      "60000/60000 [==============================] - 8s 129us/sample - loss: 0.2620 - acc: 0.9065s - loss: 0. - ETA: 0s - loss: 0.2612 - acc: 0.90 - ETA: 0s - loss: 0.2617\n",
      "Epoch 12/15\n",
      "60000/60000 [==============================] - 8s 127us/sample - loss: 0.2574 - acc: 0.9080\n",
      "Epoch 13/15\n",
      "60000/60000 [==============================] - 7s 122us/sample - loss: 0.2554 - acc: 0.9089s - loss: 0 - ETA: 0s - loss: 0.2557 - acc: 0.90\n",
      "Epoch 14/15\n",
      "60000/60000 [==============================] - 8s 125us/sample - loss: 0.2517 - acc: 0.9104\n",
      "Epoch 15/15\n",
      "60000/60000 [==============================] - 7s 124us/sample - loss: 0.2489 - acc: 0.9113\n"
     ]
    },
    {
     "data": {
      "text/plain": [
       "<tensorflow.python.keras.callbacks.History at 0x2243b62cac8>"
      ]
     },
     "execution_count": 153,
     "metadata": {},
     "output_type": "execute_result"
    }
   ],
   "source": [
    "model2.fit(X_train, trainY_ohe, epochs=15, verbose=1,batch_size=256 )"
   ]
  },
  {
   "cell_type": "code",
   "execution_count": 154,
   "metadata": {},
   "outputs": [
    {
     "name": "stdout",
     "output_type": "stream",
     "text": [
      "Accuracy: 0.880\n",
      "Loss: 0.343\n"
     ]
    }
   ],
   "source": [
    "loss, acc = model2.evaluate(X_test, testY_ohe, verbose=0)\n",
    "print('Accuracy: %.3f'  % acc)\n",
    "print('Loss: %.3f' % loss)"
   ]
  },
  {
   "cell_type": "code",
   "execution_count": 155,
   "metadata": {},
   "outputs": [],
   "source": [
    "y_predict = model2.predict(X_test)"
   ]
  },
  {
   "cell_type": "code",
   "execution_count": 156,
   "metadata": {},
   "outputs": [
    {
     "data": {
      "text/plain": [
       "array([5.7063908e-06, 1.6241322e-05, 1.8222318e-05, 6.9651292e-06,\n",
       "       1.2037568e-05, 3.4916971e-02, 4.8362126e-06, 3.8966443e-02,\n",
       "       5.2502577e-04, 9.2552757e-01], dtype=float32)"
      ]
     },
     "execution_count": 156,
     "metadata": {},
     "output_type": "execute_result"
    }
   ],
   "source": [
    "y_predict[0]"
   ]
  },
  {
   "cell_type": "code",
   "execution_count": 157,
   "metadata": {},
   "outputs": [
    {
     "data": {
      "text/plain": [
       "9"
      ]
     },
     "execution_count": 157,
     "metadata": {},
     "output_type": "execute_result"
    }
   ],
   "source": [
    "np.argmax(y_predict[0])"
   ]
  },
  {
   "cell_type": "code",
   "execution_count": 158,
   "metadata": {},
   "outputs": [],
   "source": [
    "y_pred = []\n",
    "for val in y_predict:\n",
    "    y_pred.append(np.argmax(val))\n"
   ]
  },
  {
   "cell_type": "code",
   "execution_count": 159,
   "metadata": {},
   "outputs": [
    {
     "name": "stdout",
     "output_type": "stream",
     "text": [
      "[[894   1  15  27   4   1  51   0   7   0]\n",
      " [  4 962   3  24   3   0   4   0   0   0]\n",
      " [ 18   0 826  15  86   1  52   0   2   0]\n",
      " [ 28   4  12 903  27   2  20   0   4   0]\n",
      " [  0   1  98  37 809   0  51   0   4   0]\n",
      " [  0   0   0   0   0 950   0  30   2  18]\n",
      " [187   1  97  30  72   0 599   0  14   0]\n",
      " [  0   0   0   0   0  28   0 951   0  21]\n",
      " [  5   0   5   5   4   5  10   4 961   1]\n",
      " [  1   0   0   0   0  10   2  40   0 947]]\n"
     ]
    }
   ],
   "source": [
    "cm = metrics.confusion_matrix(testY,y_pred)\n",
    "print(cm)"
   ]
  },
  {
   "cell_type": "markdown",
   "metadata": {
    "colab_type": "text",
    "id": "j9CSqKvpOIVk",
    "slideshow": {
     "slide_type": "slide"
    }
   },
   "source": [
    "### Build the Neural Network model with 3 Dense layers with 100,100,10 neurons respectively in each layer. Use cross entropy loss function and singmoid as activation in the hidden layers and softmax as activation function in the output layer. Use sgd optimizer with learning rate 0.03."
   ]
  },
  {
   "cell_type": "code",
   "execution_count": 160,
   "metadata": {
    "colab": {},
    "colab_type": "code",
    "id": "GGAad54JOIVm"
   },
   "outputs": [],
   "source": [
    "model3 = Sequential()\n",
    "model2.add(BatchNormalization())\n",
    "model3.add(Dense(100,activation='sigmoid'))\n",
    "model3.add(Dense(100, activation ='sigmoid'))\n",
    "model3.add(Dense(10,activation='softmax'))"
   ]
  },
  {
   "cell_type": "code",
   "execution_count": 161,
   "metadata": {
    "colab": {},
    "colab_type": "code",
    "id": "MQ7oIymROIVp"
   },
   "outputs": [],
   "source": [
    "sgd = optimizers.SGD(lr=0.03)"
   ]
  },
  {
   "cell_type": "code",
   "execution_count": 162,
   "metadata": {
    "colab": {},
    "colab_type": "code",
    "id": "X-O-fFxnOIVt"
   },
   "outputs": [],
   "source": [
    "model3.compile(loss='categorical_crossentropy',optimizer='sgd',metrics=['accuracy'])"
   ]
  },
  {
   "cell_type": "code",
   "execution_count": 163,
   "metadata": {
    "colab": {},
    "colab_type": "code",
    "id": "BiP7IL52OIVw"
   },
   "outputs": [
    {
     "name": "stdout",
     "output_type": "stream",
     "text": [
      "Epoch 1/15\n",
      "60000/60000 [==============================] - 1s 23us/sample - loss: 2.1055 - acc: 0.4670\n",
      "Epoch 2/15\n",
      "60000/60000 [==============================] - 1s 19us/sample - loss: 1.8030 - acc: 0.6479\n",
      "Epoch 3/15\n",
      "60000/60000 [==============================] - 1s 20us/sample - loss: 1.5506 - acc: 0.6776\n",
      "Epoch 4/15\n",
      "60000/60000 [==============================] - 1s 20us/sample - loss: 1.3394 - acc: 0.6933\n",
      "Epoch 5/15\n",
      "60000/60000 [==============================] - 1s 20us/sample - loss: 1.1755 - acc: 0.71001s - loss:\n",
      "Epoch 6/15\n",
      "60000/60000 [==============================] - 1s 20us/sample - loss: 1.0516 - acc: 0.7240\n",
      "Epoch 7/15\n",
      "60000/60000 [==============================] - 1s 23us/sample - loss: 0.9562 - acc: 0.7418\n",
      "Epoch 8/15\n",
      "60000/60000 [==============================] - 1s 21us/sample - loss: 0.8830 - acc: 0.7527\n",
      "Epoch 9/15\n",
      "60000/60000 [==============================] - 1s 20us/sample - loss: 0.8249 - acc: 0.7626\n",
      "Epoch 10/15\n",
      "60000/60000 [==============================] - 1s 20us/sample - loss: 0.7772 - acc: 0.7729\n",
      "Epoch 11/15\n",
      "60000/60000 [==============================] - 1s 20us/sample - loss: 0.7384 - acc: 0.7800\n",
      "Epoch 12/15\n",
      "60000/60000 [==============================] - 1s 20us/sample - loss: 0.7064 - acc: 0.7867\n",
      "Epoch 13/15\n",
      "60000/60000 [==============================] - 1s 21us/sample - loss: 0.6780 - acc: 0.7935\n",
      "Epoch 14/15\n",
      "60000/60000 [==============================] - 1s 20us/sample - loss: 0.6523 - acc: 0.8008\n",
      "Epoch 15/15\n",
      "60000/60000 [==============================] - 1s 21us/sample - loss: 0.6323 - acc: 0.8040\n"
     ]
    },
    {
     "data": {
      "text/plain": [
       "<tensorflow.python.keras.callbacks.History at 0x2243d682cc0>"
      ]
     },
     "execution_count": 163,
     "metadata": {},
     "output_type": "execute_result"
    }
   ],
   "source": [
    "model3.fit(X_train, trainY_ohe, epochs=15, verbose=1,batch_size=256 )"
   ]
  },
  {
   "cell_type": "markdown",
   "metadata": {
    "colab_type": "text",
    "id": "Nr2YsZV0OIV0",
    "slideshow": {
     "slide_type": "slide"
    }
   },
   "source": [
    "## Review model"
   ]
  },
  {
   "cell_type": "code",
   "execution_count": 164,
   "metadata": {
    "colab": {},
    "colab_type": "code",
    "id": "h4ojW6-oOIV2"
   },
   "outputs": [
    {
     "name": "stdout",
     "output_type": "stream",
     "text": [
      "Accuracy: 0.795\n",
      "Loss: 0.642\n"
     ]
    }
   ],
   "source": [
    "loss, acc = model3.evaluate(X_test, testY_ohe, verbose=0)\n",
    "print('Accuracy: %.3f'  % acc)\n",
    "print('Loss: %.3f' % loss)"
   ]
  },
  {
   "cell_type": "code",
   "execution_count": 165,
   "metadata": {},
   "outputs": [],
   "source": [
    "y_predict = model3.predict(X_test)"
   ]
  },
  {
   "cell_type": "code",
   "execution_count": 166,
   "metadata": {},
   "outputs": [
    {
     "data": {
      "text/plain": [
       "array([0.00342023, 0.00114745, 0.00232472, 0.00579467, 0.001028  ,\n",
       "       0.12063628, 0.00296295, 0.17736982, 0.02843512, 0.6568808 ],\n",
       "      dtype=float32)"
      ]
     },
     "execution_count": 166,
     "metadata": {},
     "output_type": "execute_result"
    }
   ],
   "source": [
    "y_predict[0]"
   ]
  },
  {
   "cell_type": "code",
   "execution_count": 167,
   "metadata": {},
   "outputs": [
    {
     "data": {
      "text/plain": [
       "9"
      ]
     },
     "execution_count": 167,
     "metadata": {},
     "output_type": "execute_result"
    }
   ],
   "source": [
    "np.argmax(y_predict[0])"
   ]
  },
  {
   "cell_type": "code",
   "execution_count": 168,
   "metadata": {},
   "outputs": [],
   "source": [
    "y_pred = []\n",
    "for val in y_predict:\n",
    "    y_pred.append(np.argmax(val))\n"
   ]
  },
  {
   "cell_type": "code",
   "execution_count": 169,
   "metadata": {},
   "outputs": [
    {
     "name": "stdout",
     "output_type": "stream",
     "text": [
      "[[806   3  11  76   5   1  76   0  21   1]\n",
      " [  3 932  16  40   5   0   2   0   2   0]\n",
      " [ 16   1 628  10 240   1  91   0  13   0]\n",
      " [ 43  13   8 851  40   1  40   0   3   1]\n",
      " [  0   2 127  51 751   0  61   0   8   0]\n",
      " [  1   0   0   1   0 830   0  87  13  68]\n",
      " [226   2 150  45 174   0 367   0  36   0]\n",
      " [  0   0   0   0   0  32   0 921   0  47]\n",
      " [  1   2   6  10   4   6  25   6 938   2]\n",
      " [  0   0   0   0   0  13   0  64   1 922]]\n"
     ]
    }
   ],
   "source": [
    "cm = metrics.confusion_matrix(testY,y_pred)\n",
    "print(cm)"
   ]
  },
  {
   "cell_type": "markdown",
   "metadata": {
    "colab_type": "text",
    "id": "gfFGmbZLOIV5",
    "slideshow": {
     "slide_type": "slide"
    }
   },
   "source": [
    "### Run the model"
   ]
  },
  {
   "cell_type": "code",
   "execution_count": 0,
   "metadata": {
    "colab": {},
    "colab_type": "code",
    "id": "bIkbMEN5OIV7"
   },
   "outputs": [],
   "source": []
  }
 ],
 "metadata": {
  "colab": {
   "name": "R6_ExternalLab_AIML.ipynb",
   "provenance": [],
   "version": "0.3.2"
  },
  "kernelspec": {
   "display_name": "Python 3",
   "language": "python",
   "name": "python3"
  },
  "language_info": {
   "codemirror_mode": {
    "name": "ipython",
    "version": 3
   },
   "file_extension": ".py",
   "mimetype": "text/x-python",
   "name": "python",
   "nbconvert_exporter": "python",
   "pygments_lexer": "ipython3",
   "version": "3.6.5"
  }
 },
 "nbformat": 4,
 "nbformat_minor": 1
}
