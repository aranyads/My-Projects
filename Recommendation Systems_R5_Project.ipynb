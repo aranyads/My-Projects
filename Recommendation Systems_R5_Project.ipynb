{
 "cells": [
  {
   "cell_type": "code",
   "execution_count": 1,
   "metadata": {},
   "outputs": [],
   "source": [
    "import numpy as np\n",
    "import pandas as pd\n",
    "import matplotlib.pyplot as plt\n",
    "%matplotlib inline\n",
    "import seaborn as sns\n",
    "import warnings\n",
    "warnings.filterwarnings('ignore')\n",
    "\n",
    "from surprise import KNNWithMeans,accuracy,Dataset, Reader\n",
    "from surprise.model_selection import train_test_split"
   ]
  },
  {
   "cell_type": "code",
   "execution_count": 2,
   "metadata": {},
   "outputs": [],
   "source": [
    "ratings_data = pd.read_csv('Electronic_dataset.csv')"
   ]
  },
  {
   "cell_type": "code",
   "execution_count": 3,
   "metadata": {},
   "outputs": [
    {
     "data": {
      "text/html": [
       "<div>\n",
       "<style scoped>\n",
       "    .dataframe tbody tr th:only-of-type {\n",
       "        vertical-align: middle;\n",
       "    }\n",
       "\n",
       "    .dataframe tbody tr th {\n",
       "        vertical-align: top;\n",
       "    }\n",
       "\n",
       "    .dataframe thead th {\n",
       "        text-align: right;\n",
       "    }\n",
       "</style>\n",
       "<table border=\"1\" class=\"dataframe\">\n",
       "  <thead>\n",
       "    <tr style=\"text-align: right;\">\n",
       "      <th></th>\n",
       "      <th>user_id</th>\n",
       "      <th>prod_id</th>\n",
       "      <th>ratings</th>\n",
       "      <th>timestamp</th>\n",
       "    </tr>\n",
       "  </thead>\n",
       "  <tbody>\n",
       "    <tr>\n",
       "      <th>0</th>\n",
       "      <td>A3L1GVWVJKWZZS</td>\n",
       "      <td>B0058UUR6E</td>\n",
       "      <td>5.0</td>\n",
       "      <td>1364774400</td>\n",
       "    </tr>\n",
       "    <tr>\n",
       "      <th>1</th>\n",
       "      <td>A08831071BVKZMKNCPI5S</td>\n",
       "      <td>B009ID0VVS</td>\n",
       "      <td>5.0</td>\n",
       "      <td>1357257600</td>\n",
       "    </tr>\n",
       "    <tr>\n",
       "      <th>2</th>\n",
       "      <td>A1SINU2I4IOPNU</td>\n",
       "      <td>B000GBO9IM</td>\n",
       "      <td>4.0</td>\n",
       "      <td>1358121600</td>\n",
       "    </tr>\n",
       "    <tr>\n",
       "      <th>3</th>\n",
       "      <td>A3P3P31EEOX2BD</td>\n",
       "      <td>B00CDCIOHO</td>\n",
       "      <td>3.0</td>\n",
       "      <td>1404950400</td>\n",
       "    </tr>\n",
       "    <tr>\n",
       "      <th>4</th>\n",
       "      <td>A3DBLJ3MPBJQMN</td>\n",
       "      <td>B000MS3VGA</td>\n",
       "      <td>5.0</td>\n",
       "      <td>1294444800</td>\n",
       "    </tr>\n",
       "  </tbody>\n",
       "</table>\n",
       "</div>"
      ],
      "text/plain": [
       "                 user_id     prod_id  ratings   timestamp\n",
       "0         A3L1GVWVJKWZZS  B0058UUR6E      5.0  1364774400\n",
       "1  A08831071BVKZMKNCPI5S  B009ID0VVS      5.0  1357257600\n",
       "2         A1SINU2I4IOPNU  B000GBO9IM      4.0  1358121600\n",
       "3         A3P3P31EEOX2BD  B00CDCIOHO      3.0  1404950400\n",
       "4         A3DBLJ3MPBJQMN  B000MS3VGA      5.0  1294444800"
      ]
     },
     "execution_count": 3,
     "metadata": {},
     "output_type": "execute_result"
    }
   ],
   "source": [
    "ratings_data.head()"
   ]
  },
  {
   "cell_type": "code",
   "execution_count": 4,
   "metadata": {},
   "outputs": [],
   "source": [
    "# Dropping the timestamp column as it is not required for our analysis\n",
    "ratings_data.drop('timestamp', axis=1, inplace=True)"
   ]
  },
  {
   "cell_type": "markdown",
   "metadata": {},
   "source": [
    "# EDA"
   ]
  },
  {
   "cell_type": "code",
   "execution_count": 5,
   "metadata": {},
   "outputs": [
    {
     "data": {
      "text/html": [
       "<div>\n",
       "<style scoped>\n",
       "    .dataframe tbody tr th:only-of-type {\n",
       "        vertical-align: middle;\n",
       "    }\n",
       "\n",
       "    .dataframe tbody tr th {\n",
       "        vertical-align: top;\n",
       "    }\n",
       "\n",
       "    .dataframe thead th {\n",
       "        text-align: right;\n",
       "    }\n",
       "</style>\n",
       "<table border=\"1\" class=\"dataframe\">\n",
       "  <thead>\n",
       "    <tr style=\"text-align: right;\">\n",
       "      <th></th>\n",
       "      <th>count</th>\n",
       "      <th>mean</th>\n",
       "      <th>std</th>\n",
       "      <th>min</th>\n",
       "      <th>25%</th>\n",
       "      <th>50%</th>\n",
       "      <th>75%</th>\n",
       "      <th>max</th>\n",
       "    </tr>\n",
       "  </thead>\n",
       "  <tbody>\n",
       "    <tr>\n",
       "      <th>ratings</th>\n",
       "      <td>500000.0</td>\n",
       "      <td>4.013172</td>\n",
       "      <td>1.379996</td>\n",
       "      <td>1.0</td>\n",
       "      <td>3.0</td>\n",
       "      <td>5.0</td>\n",
       "      <td>5.0</td>\n",
       "      <td>5.0</td>\n",
       "    </tr>\n",
       "  </tbody>\n",
       "</table>\n",
       "</div>"
      ],
      "text/plain": [
       "            count      mean       std  min  25%  50%  75%  max\n",
       "ratings  500000.0  4.013172  1.379996  1.0  3.0  5.0  5.0  5.0"
      ]
     },
     "execution_count": 5,
     "metadata": {},
     "output_type": "execute_result"
    }
   ],
   "source": [
    "ratings_data.describe().T"
   ]
  },
  {
   "cell_type": "code",
   "execution_count": 6,
   "metadata": {},
   "outputs": [
    {
     "data": {
      "text/plain": [
       "(500000, 3)"
      ]
     },
     "execution_count": 6,
     "metadata": {},
     "output_type": "execute_result"
    }
   ],
   "source": [
    "ratings_data.shape"
   ]
  },
  {
   "cell_type": "code",
   "execution_count": 7,
   "metadata": {},
   "outputs": [
    {
     "name": "stdout",
     "output_type": "stream",
     "text": [
      "<class 'pandas.core.frame.DataFrame'>\n",
      "RangeIndex: 500000 entries, 0 to 499999\n",
      "Data columns (total 3 columns):\n",
      "user_id    500000 non-null object\n",
      "prod_id    500000 non-null object\n",
      "ratings    500000 non-null float64\n",
      "dtypes: float64(1), object(2)\n",
      "memory usage: 11.4+ MB\n"
     ]
    }
   ],
   "source": [
    "# Checking for null values and data types\n",
    "ratings_data.info()"
   ]
  },
  {
   "cell_type": "code",
   "execution_count": 56,
   "metadata": {},
   "outputs": [
    {
     "data": {
      "text/plain": [
       "<matplotlib.axes._subplots.AxesSubplot at 0x16b338dcd30>"
      ]
     },
     "execution_count": 56,
     "metadata": {},
     "output_type": "execute_result"
    },
    {
     "data": {
      "image/png": "[encoded data removed]",
      "text/plain": [
       "<Figure size 432x288 with 1 Axes>"
      ]
     },
     "metadata": {},
     "output_type": "display_data"
    }
   ],
   "source": [
    "# Checking the count for each rating\n",
    "sns.countplot(x=ratings_data['ratings'])"
   ]
  },
  {
   "cell_type": "code",
   "execution_count": 48,
   "metadata": {},
   "outputs": [
    {
     "data": {
      "text/plain": [
       "5.0    277826\n",
       "4.0     95089\n",
       "1.0     57452\n",
       "3.0     40382\n",
       "2.0     29251\n",
       "Name: ratings, dtype: int64"
      ]
     },
     "execution_count": 48,
     "metadata": {},
     "output_type": "execute_result"
    }
   ],
   "source": [
    "# Checking the number of users who have rated each rating\n",
    "ratings_data['ratings'].value_counts()"
   ]
  },
  {
   "cell_type": "code",
   "execution_count": 49,
   "metadata": {},
   "outputs": [
    {
     "data": {
      "text/plain": [
       "prod_id\n",
       "0439886341    1.0\n",
       "0528881469    5.0\n",
       "0594012015    5.0\n",
       "0594033926    5.0\n",
       "0594451647    5.0\n",
       "Name: ratings, dtype: float64"
      ]
     },
     "execution_count": 49,
     "metadata": {},
     "output_type": "execute_result"
    }
   ],
   "source": [
    "# Finding out the avg rating for each product\n",
    "ratings_data.groupby('prod_id')['ratings'].mean().head()"
   ]
  },
  {
   "cell_type": "code",
   "execution_count": 50,
   "metadata": {},
   "outputs": [
    {
     "data": {
      "text/plain": [
       "prod_id\n",
       "BT008G3W52    5.0\n",
       "B004AC52UC    5.0\n",
       "B004AGJRMC    5.0\n",
       "B004AGED3A    5.0\n",
       "B004AFOK2U    5.0\n",
       "Name: ratings, dtype: float64"
      ]
     },
     "execution_count": 50,
     "metadata": {},
     "output_type": "execute_result"
    }
   ],
   "source": [
    "# Finding out the avg rating for each product in a descending order\n",
    "ratings_data.groupby('prod_id')['ratings'].mean().sort_values(ascending=False).head()"
   ]
  },
  {
   "cell_type": "code",
   "execution_count": 51,
   "metadata": {},
   "outputs": [
    {
     "data": {
      "text/plain": [
       "prod_id\n",
       "B0074BW614    1138\n",
       "B00DR0PDNE    1094\n",
       "B007WTAJTO     883\n",
       "B0019EHU8G     774\n",
       "B006GWO5WK     770\n",
       "Name: ratings, dtype: int64"
      ]
     },
     "execution_count": 51,
     "metadata": {},
     "output_type": "execute_result"
    }
   ],
   "source": [
    "# Finding the total number of ratings each product has got in a descending order\n",
    "ratings_data.groupby('prod_id')['ratings'].count().sort_values(ascending=False).head()"
   ]
  },
  {
   "cell_type": "code",
   "execution_count": 52,
   "metadata": {},
   "outputs": [],
   "source": [
    "ratings_mean_count = pd.DataFrame(ratings_data.groupby('prod_id')['ratings'].mean())"
   ]
  },
  {
   "cell_type": "code",
   "execution_count": 53,
   "metadata": {},
   "outputs": [],
   "source": [
    "ratings_mean_count['rating_counts']=pd.DataFrame(ratings_data.groupby('prod_id')['ratings'].count())"
   ]
  },
  {
   "cell_type": "markdown",
   "metadata": {},
   "source": [
    "#### We are assuming a product with high ratings will have high number of rating counts as well as a good product will be rated by many. Let's check if that is true."
   ]
  },
  {
   "cell_type": "code",
   "execution_count": 54,
   "metadata": {},
   "outputs": [
    {
     "data": {
      "text/plain": [
       "<seaborn.axisgrid.JointGrid at 0x16b33932748>"
      ]
     },
     "execution_count": 54,
     "metadata": {},
     "output_type": "execute_result"
    },
    {
     "data": {
      "text/plain": [
       "<Figure size 576x432 with 0 Axes>"
      ]
     },
     "metadata": {},
     "output_type": "display_data"
    },
    {
     "data": {
      "image/png": "[encoded data removed]",
      "text/plain": [
       "<Figure size 432x432 with 3 Axes>"
      ]
     },
     "metadata": {},
     "output_type": "display_data"
    }
   ],
   "source": [
    "plt.figure(figsize=(8,6))\n",
    "sns.jointplot(x='ratings', y='rating_counts', data=ratings_mean_count)"
   ]
  },
  {
   "cell_type": "markdown",
   "metadata": {},
   "source": [
    "#### The above graph shows that, in general, products with higher average ratings actually have more number of ratings, compared with products that have lower average ratings."
   ]
  },
  {
   "cell_type": "markdown",
   "metadata": {},
   "source": [
    "#### Let's create a popularity based recommendation model for products having a user rating of 4.5 or above with a good number of rating counts"
   ]
  },
  {
   "cell_type": "code",
   "execution_count": 55,
   "metadata": {},
   "outputs": [
    {
     "data": {
      "text/html": [
       "<div>\n",
       "<style scoped>\n",
       "    .dataframe tbody tr th:only-of-type {\n",
       "        vertical-align: middle;\n",
       "    }\n",
       "\n",
       "    .dataframe tbody tr th {\n",
       "        vertical-align: top;\n",
       "    }\n",
       "\n",
       "    .dataframe thead th {\n",
       "        text-align: right;\n",
       "    }\n",
       "</style>\n",
       "<table border=\"1\" class=\"dataframe\">\n",
       "  <thead>\n",
       "    <tr style=\"text-align: right;\">\n",
       "      <th></th>\n",
       "      <th>ratings</th>\n",
       "      <th>rating_counts</th>\n",
       "    </tr>\n",
       "    <tr>\n",
       "      <th>prod_id</th>\n",
       "      <th></th>\n",
       "      <th></th>\n",
       "    </tr>\n",
       "  </thead>\n",
       "  <tbody>\n",
       "    <tr>\n",
       "      <th>B0019EHU8G</th>\n",
       "      <td>4.740310</td>\n",
       "      <td>774</td>\n",
       "    </tr>\n",
       "    <tr>\n",
       "      <th>B003ES5ZUU</th>\n",
       "      <td>4.684288</td>\n",
       "      <td>681</td>\n",
       "    </tr>\n",
       "    <tr>\n",
       "      <th>B007R5YDYA</th>\n",
       "      <td>4.738998</td>\n",
       "      <td>659</td>\n",
       "    </tr>\n",
       "    <tr>\n",
       "      <th>B003LR7ME6</th>\n",
       "      <td>4.546263</td>\n",
       "      <td>562</td>\n",
       "    </tr>\n",
       "    <tr>\n",
       "      <th>B000LRMS66</th>\n",
       "      <td>4.745318</td>\n",
       "      <td>534</td>\n",
       "    </tr>\n",
       "  </tbody>\n",
       "</table>\n",
       "</div>"
      ],
      "text/plain": [
       "             ratings  rating_counts\n",
       "prod_id                            \n",
       "B0019EHU8G  4.740310            774\n",
       "B003ES5ZUU  4.684288            681\n",
       "B007R5YDYA  4.738998            659\n",
       "B003LR7ME6  4.546263            562\n",
       "B000LRMS66  4.745318            534"
      ]
     },
     "execution_count": 55,
     "metadata": {},
     "output_type": "execute_result"
    }
   ],
   "source": [
    "ratings_mean_count[ratings_mean_count['ratings'] >= 4.5].sort_values(by=['rating_counts','ratings'],ascending=False).head()"
   ]
  },
  {
   "cell_type": "markdown",
   "metadata": {},
   "source": [
    "# Collaborative Filtering model"
   ]
  },
  {
   "cell_type": "code",
   "execution_count": 20,
   "metadata": {},
   "outputs": [
    {
     "data": {
      "text/html": [
       "<div>\n",
       "<style scoped>\n",
       "    .dataframe tbody tr th:only-of-type {\n",
       "        vertical-align: middle;\n",
       "    }\n",
       "\n",
       "    .dataframe tbody tr th {\n",
       "        vertical-align: top;\n",
       "    }\n",
       "\n",
       "    .dataframe thead th {\n",
       "        text-align: right;\n",
       "    }\n",
       "</style>\n",
       "<table border=\"1\" class=\"dataframe\">\n",
       "  <thead>\n",
       "    <tr style=\"text-align: right;\">\n",
       "      <th></th>\n",
       "      <th>user_id</th>\n",
       "      <th>prod_id</th>\n",
       "      <th>ratings</th>\n",
       "    </tr>\n",
       "  </thead>\n",
       "  <tbody>\n",
       "    <tr>\n",
       "      <th>296595</th>\n",
       "      <td>A173814OIKA2OY</td>\n",
       "      <td>B00BCGRYY6</td>\n",
       "      <td>4.0</td>\n",
       "    </tr>\n",
       "    <tr>\n",
       "      <th>17749</th>\n",
       "      <td>A1KP9ODT16D07B</td>\n",
       "      <td>B0079LGKBQ</td>\n",
       "      <td>5.0</td>\n",
       "    </tr>\n",
       "    <tr>\n",
       "      <th>3166</th>\n",
       "      <td>A8775XY1XXKDL</td>\n",
       "      <td>B001HTE414</td>\n",
       "      <td>5.0</td>\n",
       "    </tr>\n",
       "    <tr>\n",
       "      <th>381803</th>\n",
       "      <td>ABV3HS228V0HN</td>\n",
       "      <td>B000234U3I</td>\n",
       "      <td>5.0</td>\n",
       "    </tr>\n",
       "    <tr>\n",
       "      <th>427029</th>\n",
       "      <td>A3Q3USPMHAR6C2</td>\n",
       "      <td>B00B7N997O</td>\n",
       "      <td>4.0</td>\n",
       "    </tr>\n",
       "  </tbody>\n",
       "</table>\n",
       "</div>"
      ],
      "text/plain": [
       "               user_id     prod_id  ratings\n",
       "296595  A173814OIKA2OY  B00BCGRYY6      4.0\n",
       "17749   A1KP9ODT16D07B  B0079LGKBQ      5.0\n",
       "3166     A8775XY1XXKDL  B001HTE414      5.0\n",
       "381803   ABV3HS228V0HN  B000234U3I      5.0\n",
       "427029  A3Q3USPMHAR6C2  B00B7N997O      4.0"
      ]
     },
     "execution_count": 20,
     "metadata": {},
     "output_type": "execute_result"
    }
   ],
   "source": [
    "ratings_data_final.head()"
   ]
  },
  {
   "cell_type": "code",
   "execution_count": 35,
   "metadata": {},
   "outputs": [],
   "source": [
    "# Creating a copy of the ratings_data_final dataframe\n",
    "\n",
    "ratings_data_final_bkup = ratings_data.copy()"
   ]
  },
  {
   "cell_type": "markdown",
   "metadata": {},
   "source": [
    "#### Subsetting the dataframe based on rating_counts greater than 5 to avoid memory issues"
   ]
  },
  {
   "cell_type": "code",
   "execution_count": 118,
   "metadata": {},
   "outputs": [],
   "source": [
    "user_counts = pd.DataFrame(ratings_data.groupby('user_id')['ratings'].count())\n",
    "final_users = user_counts[user_counts['ratings']>=5]\n",
    "final_users.reset_index(inplace=True)\n",
    "ratings_final = ratings_data[ratings_data['user_id'].isin(final_users['user_id'])]"
   ]
  },
  {
   "cell_type": "code",
   "execution_count": 119,
   "metadata": {},
   "outputs": [
    {
     "name": "stdout",
     "output_type": "stream",
     "text": [
      "(8447, 3)\n"
     ]
    },
    {
     "data": {
      "text/html": [
       "<div>\n",
       "<style scoped>\n",
       "    .dataframe tbody tr th:only-of-type {\n",
       "        vertical-align: middle;\n",
       "    }\n",
       "\n",
       "    .dataframe tbody tr th {\n",
       "        vertical-align: top;\n",
       "    }\n",
       "\n",
       "    .dataframe thead th {\n",
       "        text-align: right;\n",
       "    }\n",
       "</style>\n",
       "<table border=\"1\" class=\"dataframe\">\n",
       "  <thead>\n",
       "    <tr style=\"text-align: right;\">\n",
       "      <th></th>\n",
       "      <th>user_id</th>\n",
       "      <th>prod_id</th>\n",
       "      <th>ratings</th>\n",
       "    </tr>\n",
       "  </thead>\n",
       "  <tbody>\n",
       "    <tr>\n",
       "      <th>26</th>\n",
       "      <td>A2HX3D3MPPASNS</td>\n",
       "      <td>B004I3VZM2</td>\n",
       "      <td>4.0</td>\n",
       "    </tr>\n",
       "    <tr>\n",
       "      <th>214</th>\n",
       "      <td>AZNUHQSHZHSUE</td>\n",
       "      <td>B000FJEYZI</td>\n",
       "      <td>1.0</td>\n",
       "    </tr>\n",
       "    <tr>\n",
       "      <th>264</th>\n",
       "      <td>A1YEPFLLH42OU1</td>\n",
       "      <td>B00E3W15P0</td>\n",
       "      <td>5.0</td>\n",
       "    </tr>\n",
       "    <tr>\n",
       "      <th>286</th>\n",
       "      <td>A2GYV87WW0DMSN</td>\n",
       "      <td>B0009Y7APU</td>\n",
       "      <td>5.0</td>\n",
       "    </tr>\n",
       "    <tr>\n",
       "      <th>326</th>\n",
       "      <td>A2IXMLO29Z5G8S</td>\n",
       "      <td>B002K46DDC</td>\n",
       "      <td>5.0</td>\n",
       "    </tr>\n",
       "  </tbody>\n",
       "</table>\n",
       "</div>"
      ],
      "text/plain": [
       "            user_id     prod_id  ratings\n",
       "26   A2HX3D3MPPASNS  B004I3VZM2      4.0\n",
       "214   AZNUHQSHZHSUE  B000FJEYZI      1.0\n",
       "264  A1YEPFLLH42OU1  B00E3W15P0      5.0\n",
       "286  A2GYV87WW0DMSN  B0009Y7APU      5.0\n",
       "326  A2IXMLO29Z5G8S  B002K46DDC      5.0"
      ]
     },
     "execution_count": 119,
     "metadata": {},
     "output_type": "execute_result"
    }
   ],
   "source": [
    "print(ratings_final.shape)\n",
    "ratings_final.head()"
   ]
  },
  {
   "cell_type": "markdown",
   "metadata": {},
   "source": [
    "#### The above subset dataset comprises of those users only who have rated 5 or more times at least. We have eliminated all those datapoint for which users have rated less than 10 products. This will allow us to have a better user user Collaborative filtering."
   ]
  },
  {
   "cell_type": "code",
   "execution_count": 95,
   "metadata": {},
   "outputs": [
    {
     "name": "stdout",
     "output_type": "stream",
     "text": [
      "5.0    4818\n",
      "4.0    2090\n",
      "3.0     786\n",
      "2.0     384\n",
      "1.0     369\n",
      "Name: ratings, dtype: int64\n"
     ]
    },
    {
     "data": {
      "image/png": "[encoded data removed]",
      "text/plain": [
       "<Figure size 432x288 with 1 Axes>"
      ]
     },
     "metadata": {},
     "output_type": "display_data"
    }
   ],
   "source": [
    "sns.countplot(x=ratings_final['ratings'])\n",
    "print(ratings_final['ratings'].value_counts())"
   ]
  },
  {
   "cell_type": "markdown",
   "metadata": {},
   "source": [
    "    o The above plot shows that products with better ratings (4 or 5) is more likely to be rated by more number of users"
   ]
  },
  {
   "cell_type": "markdown",
   "metadata": {},
   "source": [
    "#### Spliting the data randomly into a train and test dataset(70:30)"
   ]
  },
  {
   "cell_type": "code",
   "execution_count": 96,
   "metadata": {},
   "outputs": [],
   "source": [
    "reader = Reader(rating_scale=(1, 5))\n",
    "data = Dataset.load_from_df(ratings_final,reader)\n",
    "trainset,testset = train_test_split(data, test_size=0.3, random_state=100)"
   ]
  },
  {
   "cell_type": "code",
   "execution_count": 112,
   "metadata": {},
   "outputs": [],
   "source": [
    "model = KNNWithMeans(k=50, sim_options={'name': 'cosine', 'user_based': True},random_state=100)"
   ]
  },
  {
   "cell_type": "code",
   "execution_count": 113,
   "metadata": {},
   "outputs": [
    {
     "name": "stdout",
     "output_type": "stream",
     "text": [
      "Computing the cosine similarity matrix...\n",
      "Done computing similarity matrix.\n"
     ]
    },
    {
     "data": {
      "text/plain": [
       "<surprise.prediction_algorithms.knns.KNNWithMeans at 0x16b3fcbd080>"
      ]
     },
     "execution_count": 113,
     "metadata": {},
     "output_type": "execute_result"
    }
   ],
   "source": [
    "model.fit(trainset)"
   ]
  },
  {
   "cell_type": "code",
   "execution_count": 114,
   "metadata": {},
   "outputs": [],
   "source": [
    "knn_pred = model.test(testset)"
   ]
  },
  {
   "cell_type": "code",
   "execution_count": 115,
   "metadata": {},
   "outputs": [
    {
     "name": "stdout",
     "output_type": "stream",
     "text": [
      "RMSE score for cosine KNN Model for User-based Collaborative Filtering, using 50 neighbors gives\n",
      "RMSE: 1.0897\n"
     ]
    },
    {
     "data": {
      "text/plain": [
       "1.089688603934386"
      ]
     },
     "execution_count": 115,
     "metadata": {},
     "output_type": "execute_result"
    }
   ],
   "source": [
    "print(\"RMSE score for cosine KNN Model for User-based Collaborative Filtering, using 50 neighbors gives\")\n",
    "accuracy.rmse(knn_pred, verbose=True)"
   ]
  },
  {
   "cell_type": "markdown",
   "metadata": {},
   "source": [
    "#### The objective is to reccommend top K (K=5) recommendations of new products to each user based on his/her habits"
   ]
  },
  {
   "cell_type": "code",
   "execution_count": 101,
   "metadata": {},
   "outputs": [],
   "source": [
    "new_test_df = trainset.build_anti_testset()"
   ]
  },
  {
   "cell_type": "code",
   "execution_count": 102,
   "metadata": {},
   "outputs": [],
   "source": [
    "pred = model.test(new_test_df)"
   ]
  },
  {
   "cell_type": "code",
   "execution_count": 103,
   "metadata": {},
   "outputs": [],
   "source": [
    "pred_df = pd.DataFrame([[x.uid,x.iid,x.est] for x in pred])"
   ]
  },
  {
   "cell_type": "code",
   "execution_count": 104,
   "metadata": {},
   "outputs": [],
   "source": [
    "# Renaming columns\n",
    "pred_df.columns = [\"user_id\",\"prod_id\",\"est_rating\"]"
   ]
  },
  {
   "cell_type": "code",
   "execution_count": 105,
   "metadata": {},
   "outputs": [],
   "source": [
    "pred_df.sort_values(by = [\"user_id\",\"prod_id\",\"est_rating\"],ascending=False,inplace=True)"
   ]
  },
  {
   "cell_type": "code",
   "execution_count": 106,
   "metadata": {
    "scrolled": true
   },
   "outputs": [
    {
     "data": {
      "text/html": [
       "<div>\n",
       "<style scoped>\n",
       "    .dataframe tbody tr th:only-of-type {\n",
       "        vertical-align: middle;\n",
       "    }\n",
       "\n",
       "    .dataframe tbody tr th {\n",
       "        vertical-align: top;\n",
       "    }\n",
       "\n",
       "    .dataframe thead th {\n",
       "        text-align: right;\n",
       "    }\n",
       "</style>\n",
       "<table border=\"1\" class=\"dataframe\">\n",
       "  <thead>\n",
       "    <tr style=\"text-align: right;\">\n",
       "      <th></th>\n",
       "      <th>user_id</th>\n",
       "      <th>prod_id</th>\n",
       "      <th>est_rating</th>\n",
       "    </tr>\n",
       "  </thead>\n",
       "  <tbody>\n",
       "    <tr>\n",
       "      <th>2000110</th>\n",
       "      <td>AZNUHQSHZHSUE</td>\n",
       "      <td>B00L26YDA4</td>\n",
       "      <td>4.0</td>\n",
       "    </tr>\n",
       "    <tr>\n",
       "      <th>1996837</th>\n",
       "      <td>AZNUHQSHZHSUE</td>\n",
       "      <td>B00L2442H0</td>\n",
       "      <td>4.0</td>\n",
       "    </tr>\n",
       "    <tr>\n",
       "      <th>1998675</th>\n",
       "      <td>AZNUHQSHZHSUE</td>\n",
       "      <td>B00KYMCJF8</td>\n",
       "      <td>4.0</td>\n",
       "    </tr>\n",
       "    <tr>\n",
       "      <th>1998338</th>\n",
       "      <td>AZNUHQSHZHSUE</td>\n",
       "      <td>B00KWMNDDM</td>\n",
       "      <td>4.0</td>\n",
       "    </tr>\n",
       "    <tr>\n",
       "      <th>2000270</th>\n",
       "      <td>AZNUHQSHZHSUE</td>\n",
       "      <td>B00KMRGB7C</td>\n",
       "      <td>4.0</td>\n",
       "    </tr>\n",
       "  </tbody>\n",
       "</table>\n",
       "</div>"
      ],
      "text/plain": [
       "               user_id     prod_id  est_rating\n",
       "2000110  AZNUHQSHZHSUE  B00L26YDA4         4.0\n",
       "1996837  AZNUHQSHZHSUE  B00L2442H0         4.0\n",
       "1998675  AZNUHQSHZHSUE  B00KYMCJF8         4.0\n",
       "1998338  AZNUHQSHZHSUE  B00KWMNDDM         4.0\n",
       "2000270  AZNUHQSHZHSUE  B00KMRGB7C         4.0"
      ]
     },
     "execution_count": 106,
     "metadata": {},
     "output_type": "execute_result"
    }
   ],
   "source": [
    "#showing the top-5 recommendations in general\n",
    "pred_df.head()"
   ]
  },
  {
   "cell_type": "code",
   "execution_count": 111,
   "metadata": {},
   "outputs": [
    {
     "data": {
      "text/html": [
       "<div>\n",
       "<style scoped>\n",
       "    .dataframe tbody tr th:only-of-type {\n",
       "        vertical-align: middle;\n",
       "    }\n",
       "\n",
       "    .dataframe tbody tr th {\n",
       "        vertical-align: top;\n",
       "    }\n",
       "\n",
       "    .dataframe thead th {\n",
       "        text-align: right;\n",
       "    }\n",
       "</style>\n",
       "<table border=\"1\" class=\"dataframe\">\n",
       "  <thead>\n",
       "    <tr style=\"text-align: right;\">\n",
       "      <th></th>\n",
       "      <th>user_id</th>\n",
       "      <th>prod_id</th>\n",
       "      <th>est_rating</th>\n",
       "    </tr>\n",
       "  </thead>\n",
       "  <tbody>\n",
       "    <tr>\n",
       "      <th>2205296</th>\n",
       "      <td>A2HX3D3MPPASNS</td>\n",
       "      <td>B00L26YDA4</td>\n",
       "      <td>4.75</td>\n",
       "    </tr>\n",
       "    <tr>\n",
       "      <th>2202023</th>\n",
       "      <td>A2HX3D3MPPASNS</td>\n",
       "      <td>B00L2442H0</td>\n",
       "      <td>4.75</td>\n",
       "    </tr>\n",
       "    <tr>\n",
       "      <th>2203862</th>\n",
       "      <td>A2HX3D3MPPASNS</td>\n",
       "      <td>B00KYMCJF8</td>\n",
       "      <td>4.75</td>\n",
       "    </tr>\n",
       "    <tr>\n",
       "      <th>2203526</th>\n",
       "      <td>A2HX3D3MPPASNS</td>\n",
       "      <td>B00KWMNDDM</td>\n",
       "      <td>4.75</td>\n",
       "    </tr>\n",
       "    <tr>\n",
       "      <th>2205456</th>\n",
       "      <td>A2HX3D3MPPASNS</td>\n",
       "      <td>B00KMRGB7C</td>\n",
       "      <td>4.75</td>\n",
       "    </tr>\n",
       "  </tbody>\n",
       "</table>\n",
       "</div>"
      ],
      "text/plain": [
       "                user_id     prod_id  est_rating\n",
       "2205296  A2HX3D3MPPASNS  B00L26YDA4        4.75\n",
       "2202023  A2HX3D3MPPASNS  B00L2442H0        4.75\n",
       "2203862  A2HX3D3MPPASNS  B00KYMCJF8        4.75\n",
       "2203526  A2HX3D3MPPASNS  B00KWMNDDM        4.75\n",
       "2205456  A2HX3D3MPPASNS  B00KMRGB7C        4.75"
      ]
     },
     "execution_count": 111,
     "metadata": {},
     "output_type": "execute_result"
    }
   ],
   "source": [
    "#Predicting top-5 products for 1 particular user\n",
    "pred_df[pred_df['user_id']=='A2HX3D3MPPASNS'].head()"
   ]
  },
  {
   "cell_type": "markdown",
   "metadata": {},
   "source": [
    "# Summary"
   ]
  },
  {
   "cell_type": "markdown",
   "metadata": {},
   "source": [
    "### Popularity recommendations system   \n",
    "    \n",
    "    o A Popularity based recommendations system has been designed in order to predict the top 5 most popular products based on User ratings and the number of users who have rated the product.\n",
    "   \n",
    "    o This Popularity based recommendation system doesn't need to have historical knowledge of the user and anybody who buys products from the ecommerce site will be catered with this recommendation system\n",
    "    \n",
    "    o However there is a downside to this type of Recommendation engine. It is not customizable. So any user who logs in to the ecommerce site will get the same top5 product recommendation as it simply prioritizes the products which have been rated the most and the highest.\n",
    "    \n",
    "    \n",
    "### Collaborative filtering recommendation system\n",
    "\n",
    "    o The initial dataset has 500000 data points and if we had built a collaborative recommendation based on the initial dataset, we could've faced memory issues.\n",
    "    o To avoid memory issues, we first created a subset of the initial dataset by looking at those users only who have rated products atleast more than 5 times. There are 8447 data points for such users\n",
    "    o The RMSE that we have achieved using this technique from a collaborative filtering recommendation model based on cosine similarity is 1.09.\n",
    "    o If we had considered users who have atleast rated 10 or 15 products, the RMSE could come down making it a more effective recommender engine but then the user base for whom we would be creating this recommender engine will be less.\n",
    "    \n",
    "    o If we had selected only those users who have rated 10 or more products then we would have a mere 1875 data points.  So, I've taken a subjective call to choose users who have atleast rated 5 products."
   ]
  },
  {
   "cell_type": "code",
   "execution_count": null,
   "metadata": {},
   "outputs": [],
   "source": []
  }
 ],
 "metadata": {
  "kernelspec": {
   "display_name": "Python 3",
   "language": "python",
   "name": "python3"
  },
  "language_info": {
   "codemirror_mode": {
    "name": "ipython",
    "version": 3
   },
   "file_extension": ".py",
   "mimetype": "text/x-python",
   "name": "python",
   "nbconvert_exporter": "python",
   "pygments_lexer": "ipython3",
   "version": "3.6.5"
  }
 },
 "nbformat": 4,
 "nbformat_minor": 2
}
